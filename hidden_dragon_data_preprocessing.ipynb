{
 "cells": [
  {
   "cell_type": "code",
   "execution_count": 28,
   "metadata": {},
   "outputs": [],
   "source": [
    "import warnings\n",
    "warnings.filterwarnings('ignore')\n",
    "\n",
    "# Handle table-like data and matrices\n",
    "import numpy as np\n",
    "import pandas as pd\n",
    "import datetime as dt"
   ]
  },
  {
   "cell_type": "code",
   "execution_count": 29,
   "metadata": {},
   "outputs": [
    {
     "name": "stdout",
     "output_type": "stream",
     "text": [
      "Tests positive shaped:  (14537, 5)\n",
      "Confirmed shape:  (182, 96)\n"
     ]
    }
   ],
   "source": [
    "confirmed_df = pd.read_csv(\"datasets/time_series_covid19_confirmed_global_modified.csv\",sep=',')\n",
    "tests_positive_df = pd.read_csv(\"datasets/covid-19-tests-vs-cases-positivity-comparisons.csv\")\n",
    "print(\"Tests positive shaped: \", tests_positive_df.shape)\n",
    "print(\"Confirmed shape: \", confirmed_df.shape)"
   ]
  },
  {
   "cell_type": "code",
   "execution_count": 30,
   "metadata": {},
   "outputs": [],
   "source": [
    "#Coveeting the string date into datetime pandas object\n",
    "tests_positive_df['Date'] =  pd.to_datetime(tests_positive_df['Date'])"
   ]
  },
  {
   "cell_type": "code",
   "execution_count": 31,
   "metadata": {},
   "outputs": [],
   "source": [
    "#Converting the date in dataframe to epoch. It would be easy to compare epoch times to make the data uniform \n",
    "#based on the starting and ending date\n",
    "tests_positive_df['Date'] = (tests_positive_df['Date'] - dt.datetime(1970,1,1)).dt.total_seconds()"
   ]
  },
  {
   "cell_type": "code",
   "execution_count": 32,
   "metadata": {},
   "outputs": [],
   "source": [
    "#Converting into a timeseries dataframe\n",
    "jp_tests_positive_df = tests_positive_df.pivot_table(values=\"Total confirmed cases of COVID-19 (cases)\",index=\"Entity\",columns=\"Date\")"
   ]
  },
  {
   "cell_type": "code",
   "execution_count": 33,
   "metadata": {},
   "outputs": [],
   "source": [
    "#Finding the columns with the same dates in both the dataframes\n",
    "similar_columns_list_confirmed = []\n",
    "for col in jp_tests_positive_df.columns:\n",
    "    if str(col) in confirmed_df.columns:\n",
    "        similar_columns_list_confirmed.append(col)"
   ]
  },
  {
   "cell_type": "code",
   "execution_count": 34,
   "metadata": {},
   "outputs": [],
   "source": [
    "# Taking only the columns in with similar columns in both dataframes\n",
    "jp_tests_positive_df = jp_tests_positive_df[similar_columns_list_confirmed]\n",
    "\n",
    "similar_columns_list_confirmed = [str(i) for i in similar_columns_list_confirmed]\n",
    "indexes = ['Country/Region','Country Code','Lat','Long']\n",
    "lst = list(similar_columns_list_confirmed)\n",
    "for i in lst:\n",
    "    indexes.append(i)\n",
    "\n",
    "final_confirmed_df = confirmed_df[indexes]"
   ]
  },
  {
   "cell_type": "code",
   "execution_count": 36,
   "metadata": {},
   "outputs": [
    {
     "data": {
      "text/html": [
       "<div>\n",
       "<style scoped>\n",
       "    .dataframe tbody tr th:only-of-type {\n",
       "        vertical-align: middle;\n",
       "    }\n",
       "\n",
       "    .dataframe tbody tr th {\n",
       "        vertical-align: top;\n",
       "    }\n",
       "\n",
       "    .dataframe thead th {\n",
       "        text-align: right;\n",
       "    }\n",
       "</style>\n",
       "<table border=\"1\" class=\"dataframe\">\n",
       "  <thead>\n",
       "    <tr style=\"text-align: right;\">\n",
       "      <th></th>\n",
       "      <th>Country/Region</th>\n",
       "      <th>Country Code</th>\n",
       "      <th>Lat</th>\n",
       "      <th>Long</th>\n",
       "      <th>Total Confirmed</th>\n",
       "    </tr>\n",
       "  </thead>\n",
       "  <tbody>\n",
       "    <tr>\n",
       "      <th>0</th>\n",
       "      <td>Afghanistan</td>\n",
       "      <td>AFG</td>\n",
       "      <td>33.00</td>\n",
       "      <td>65.00</td>\n",
       "      <td>15197</td>\n",
       "    </tr>\n",
       "    <tr>\n",
       "      <th>1</th>\n",
       "      <td>Albania</td>\n",
       "      <td>ALB</td>\n",
       "      <td>41.15</td>\n",
       "      <td>20.17</td>\n",
       "      <td>12060</td>\n",
       "    </tr>\n",
       "    <tr>\n",
       "      <th>2</th>\n",
       "      <td>Algeria</td>\n",
       "      <td>DZA</td>\n",
       "      <td>28.03</td>\n",
       "      <td>1.66</td>\n",
       "      <td>46533</td>\n",
       "    </tr>\n",
       "    <tr>\n",
       "      <th>3</th>\n",
       "      <td>Andorra</td>\n",
       "      <td>AND</td>\n",
       "      <td>42.51</td>\n",
       "      <td>1.52</td>\n",
       "      <td>15989</td>\n",
       "    </tr>\n",
       "    <tr>\n",
       "      <th>4</th>\n",
       "      <td>Angola</td>\n",
       "      <td>AGO</td>\n",
       "      <td>-11.20</td>\n",
       "      <td>17.87</td>\n",
       "      <td>440</td>\n",
       "    </tr>\n",
       "  </tbody>\n",
       "</table>\n",
       "</div>"
      ],
      "text/plain": [
       "  Country/Region Country Code    Lat   Long  Total Confirmed\n",
       "0    Afghanistan          AFG  33.00  65.00            15197\n",
       "1        Albania          ALB  41.15  20.17            12060\n",
       "2        Algeria          DZA  28.03   1.66            46533\n",
       "3        Andorra          AND  42.51   1.52            15989\n",
       "4         Angola          AGO -11.20  17.87              440"
      ]
     },
     "execution_count": 36,
     "metadata": {},
     "output_type": "execute_result"
    }
   ],
   "source": [
    "# Summing up the total positive cases across all the days\n",
    "total_tests_positive_df = jp_tests_positive_df.sum(axis=1)\n",
    "total_tests_positive_df = total_tests_positive_df.to_frame()\n",
    "total_tests_positive_df.columns = ['Total Positives']\n",
    "\n",
    "#was facing some problems in directly merging the dataframes as is due to column names not displaying as desired, so writing into a csv\n",
    "total_tests_positive_df.to_csv(\"datasets/positives.csv\")\n",
    "\n",
    "#Summing up the total confirmed cases across all days \n",
    "final_confirmed_df['Total Confirmed'] = final_confirmed_df[lst].sum(axis=1)\n",
    "total_confirmed_df = final_confirmed_df[['Country/Region','Country Code','Lat','Long','Total Confirmed']]\n",
    "\n",
    "total_confirmed_df.head()"
   ]
  },
  {
   "cell_type": "code",
   "execution_count": 37,
   "metadata": {},
   "outputs": [
    {
     "data": {
      "text/html": [
       "<div>\n",
       "<style scoped>\n",
       "    .dataframe tbody tr th:only-of-type {\n",
       "        vertical-align: middle;\n",
       "    }\n",
       "\n",
       "    .dataframe tbody tr th {\n",
       "        vertical-align: top;\n",
       "    }\n",
       "\n",
       "    .dataframe thead th {\n",
       "        text-align: right;\n",
       "    }\n",
       "</style>\n",
       "<table border=\"1\" class=\"dataframe\">\n",
       "  <thead>\n",
       "    <tr style=\"text-align: right;\">\n",
       "      <th></th>\n",
       "      <th>Country/Region</th>\n",
       "      <th>Total Positives</th>\n",
       "    </tr>\n",
       "  </thead>\n",
       "  <tbody>\n",
       "    <tr>\n",
       "      <th>0</th>\n",
       "      <td>Afghanistan</td>\n",
       "      <td>13417.0</td>\n",
       "    </tr>\n",
       "    <tr>\n",
       "      <th>1</th>\n",
       "      <td>Africa</td>\n",
       "      <td>342286.0</td>\n",
       "    </tr>\n",
       "    <tr>\n",
       "      <th>2</th>\n",
       "      <td>Albania</td>\n",
       "      <td>11433.0</td>\n",
       "    </tr>\n",
       "    <tr>\n",
       "      <th>3</th>\n",
       "      <td>Algeria</td>\n",
       "      <td>43575.0</td>\n",
       "    </tr>\n",
       "    <tr>\n",
       "      <th>4</th>\n",
       "      <td>Andorra</td>\n",
       "      <td>15314.0</td>\n",
       "    </tr>\n",
       "  </tbody>\n",
       "</table>\n",
       "</div>"
      ],
      "text/plain": [
       "  Country/Region  Total Positives\n",
       "0    Afghanistan          13417.0\n",
       "1         Africa         342286.0\n",
       "2        Albania          11433.0\n",
       "3        Algeria          43575.0\n",
       "4        Andorra          15314.0"
      ]
     },
     "execution_count": 37,
     "metadata": {},
     "output_type": "execute_result"
    }
   ],
   "source": [
    "# Reading the earlier total positives dataset and renaming the columns according to merge into a single dataset having the total confirmed cases and total positives\n",
    "#based on countries\n",
    "final_positives_df = pd.read_csv('datasets/positives.csv')\n",
    "final_positives_df.columns = ['Country/Region','Total Positives']\n",
    "\n",
    "final_positives_df.head()"
   ]
  },
  {
   "cell_type": "code",
   "execution_count": 39,
   "metadata": {},
   "outputs": [
    {
     "data": {
      "text/html": [
       "<div>\n",
       "<style scoped>\n",
       "    .dataframe tbody tr th:only-of-type {\n",
       "        vertical-align: middle;\n",
       "    }\n",
       "\n",
       "    .dataframe tbody tr th {\n",
       "        vertical-align: top;\n",
       "    }\n",
       "\n",
       "    .dataframe thead th {\n",
       "        text-align: right;\n",
       "    }\n",
       "</style>\n",
       "<table border=\"1\" class=\"dataframe\">\n",
       "  <thead>\n",
       "    <tr style=\"text-align: right;\">\n",
       "      <th></th>\n",
       "      <th>Country/Region</th>\n",
       "      <th>Country Code</th>\n",
       "      <th>Lat</th>\n",
       "      <th>Long</th>\n",
       "      <th>Total Confirmed</th>\n",
       "      <th>Total Positives</th>\n",
       "    </tr>\n",
       "  </thead>\n",
       "  <tbody>\n",
       "    <tr>\n",
       "      <th>0</th>\n",
       "      <td>Afghanistan</td>\n",
       "      <td>AFG</td>\n",
       "      <td>33.00</td>\n",
       "      <td>65.00</td>\n",
       "      <td>15197</td>\n",
       "      <td>13417.0</td>\n",
       "    </tr>\n",
       "    <tr>\n",
       "      <th>1</th>\n",
       "      <td>Albania</td>\n",
       "      <td>ALB</td>\n",
       "      <td>41.15</td>\n",
       "      <td>20.17</td>\n",
       "      <td>12060</td>\n",
       "      <td>11433.0</td>\n",
       "    </tr>\n",
       "    <tr>\n",
       "      <th>2</th>\n",
       "      <td>Algeria</td>\n",
       "      <td>DZA</td>\n",
       "      <td>28.03</td>\n",
       "      <td>1.66</td>\n",
       "      <td>46533</td>\n",
       "      <td>43575.0</td>\n",
       "    </tr>\n",
       "    <tr>\n",
       "      <th>3</th>\n",
       "      <td>Andorra</td>\n",
       "      <td>AND</td>\n",
       "      <td>42.51</td>\n",
       "      <td>1.52</td>\n",
       "      <td>15989</td>\n",
       "      <td>15314.0</td>\n",
       "    </tr>\n",
       "    <tr>\n",
       "      <th>4</th>\n",
       "      <td>Angola</td>\n",
       "      <td>AGO</td>\n",
       "      <td>-11.20</td>\n",
       "      <td>17.87</td>\n",
       "      <td>440</td>\n",
       "      <td>409.0</td>\n",
       "    </tr>\n",
       "  </tbody>\n",
       "</table>\n",
       "</div>"
      ],
      "text/plain": [
       "  Country/Region Country Code    Lat   Long  Total Confirmed  Total Positives\n",
       "0    Afghanistan          AFG  33.00  65.00            15197          13417.0\n",
       "1        Albania          ALB  41.15  20.17            12060          11433.0\n",
       "2        Algeria          DZA  28.03   1.66            46533          43575.0\n",
       "3        Andorra          AND  42.51   1.52            15989          15314.0\n",
       "4         Angola          AGO -11.20  17.87              440            409.0"
      ]
     },
     "execution_count": 39,
     "metadata": {},
     "output_type": "execute_result"
    }
   ],
   "source": [
    "#Final data set having aggregated confirmed and positive cases\n",
    "final_df = pd.merge(total_confirmed_df,final_positives_df,on='Country/Region')\n",
    "final_df.to_csv(\"datasets/aggregated_counts.csv\")\n",
    "\n",
    "final_df.head()"
   ]
  },
  {
   "cell_type": "code",
   "execution_count": null,
   "metadata": {},
   "outputs": [],
   "source": []
  }
 ],
 "metadata": {
  "kernelspec": {
   "display_name": "Python 3.7.7 64-bit",
   "language": "python",
   "name": "python37764bite6f8ad3091ed46cdac5ebcb721d39777"
  },
  "language_info": {
   "codemirror_mode": {
    "name": "ipython",
    "version": 3
   },
   "file_extension": ".py",
   "mimetype": "text/x-python",
   "name": "python",
   "nbconvert_exporter": "python",
   "pygments_lexer": "ipython3",
   "version": "3.7.7"
  }
 },
 "nbformat": 4,
 "nbformat_minor": 2
}
